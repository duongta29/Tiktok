{
 "cells": [
  {
   "cell_type": "code",
   "execution_count": 4,
   "metadata": {},
   "outputs": [],
   "source": [
    "### LIBRARY  ###\n",
    "from selenium  import webdriver\n",
    "import time\n",
    "from selenium.webdriver.common.keys import Keys\n",
    "from selenium.webdriver.common.by import By\n",
    "from selenium.webdriver.common.action_chains import ActionChains\n",
    "import csv\n",
    "import json\n",
    "import pickle\n",
    "from login import TiktokLogin\n",
    "from selenium.webdriver.chrome.options import Options\n",
    "from selenium.webdriver.support.ui import WebDriverWait\n",
    "from selenium.webdriver.support import expected_conditions as EC\n",
    "import random\n",
    "# from puzzle import Puzzle\n",
    "# from bot import Bot\n",
    "\n",
    "\n",
    "options = webdriver.ChromeOptions()\n",
    "# options.add_argument('--disable-blink-features=AutomationControlled')\n",
    "options.add_argument(\"--start-maximized\")\n",
    "# options.add_argument('--disable-infobars')\n",
    "options.add_argument('--disable-notifications')\n",
    "# options.add_argument('--disable-popup-blocking')\n",
    "# options.add_argument('--disable-save-password-bubble')\n",
    "# options.add_argument('--disable-translate')\n",
    "# options.add_argument('--disable-web-security')\n",
    "# options.add_argument('--disable-extensions')\n",
    "options.add_experimental_option(\"excludeSwitches\", [\"enable-automation\"])\n",
    "# options.add_argument(\"--log-level=3\")\n",
    "driver = webdriver.Chrome(options=options)\n",
    "\n",
    "\n",
    "#### GLOBAL INIT #####\n",
    "url = 'https://www.tiktok.com/'\n",
    "# account = 'account.json'\n",
    "driver.get(url)\n",
    "time.sleep(3)"
   ]
  },
  {
   "cell_type": "code",
   "execution_count": 5,
   "metadata": {},
   "outputs": [],
   "source": [
    "search_key = 'marvel'\n",
    "type_key = 'video'\n",
    "search = f\"https://www.tiktok.com/search/{type_key}?q={search_key}&t=1690885148972\"\n",
    "driver.get(search)"
   ]
  },
  {
   "cell_type": "code",
   "execution_count": 8,
   "metadata": {},
   "outputs": [],
   "source": [
    "import requests\n",
    "def getLink():\n",
    "        outer = driver.find_element(By.XPATH, '//*[@data-testid=\"whirl-outer-img\"]').get_attribute(\n",
    "                    \"src\")\n",
    "        outer_image = outer\n",
    "        inner = driver.find_element(By.XPATH, '//*[@data-testid=\"whirl-inner-img\"]').get_attribute(\n",
    "                    \"src\")\n",
    "        inner_image = inner\n",
    "        outer = 'outer.jpg'\n",
    "        inner = 'inner.jpg'\n",
    "        response = requests.get(outer_image)\n",
    "        with open(outer, 'wb') as file:\n",
    "            file.write(response.content)\n",
    "        time.sleep(2)\n",
    "        response = requests.get(inner_image)\n",
    "        with open(inner, 'wb') as file:\n",
    "            file.write(response.content)\n",
    "        time.sleep(2)"
   ]
  },
  {
   "cell_type": "code",
   "execution_count": 9,
   "metadata": {},
   "outputs": [],
   "source": [
    "getLink()"
   ]
  },
  {
   "cell_type": "code",
   "execution_count": 10,
   "metadata": {},
   "outputs": [],
   "source": [
    "import circle"
   ]
  },
  {
   "cell_type": "code",
   "execution_count": 11,
   "metadata": {},
   "outputs": [
    {
     "name": "stdout",
     "output_type": "stream",
     "text": [
      "157\n"
     ]
    }
   ],
   "source": [
    "angle = circle.single_discern(\"inner.jpg\",\"outer.jpg\",\"result.png\")"
   ]
  },
  {
   "cell_type": "code",
   "execution_count": 12,
   "metadata": {},
   "outputs": [],
   "source": [
    "px = (271 * angle) / 360"
   ]
  },
  {
   "cell_type": "code",
   "execution_count": 13,
   "metadata": {},
   "outputs": [
    {
     "data": {
      "text/plain": [
       "118.18611111111112"
      ]
     },
     "execution_count": 13,
     "metadata": {},
     "output_type": "execute_result"
    }
   ],
   "source": [
    "px"
   ]
  },
  {
   "cell_type": "code",
   "execution_count": null,
   "metadata": {},
   "outputs": [],
   "source": []
  }
 ],
 "metadata": {
  "kernelspec": {
   "display_name": "Python 3",
   "language": "python",
   "name": "python3"
  },
  "language_info": {
   "codemirror_mode": {
    "name": "ipython",
    "version": 3
   },
   "file_extension": ".py",
   "mimetype": "text/x-python",
   "name": "python",
   "nbconvert_exporter": "python",
   "pygments_lexer": "ipython3",
   "version": "3.9.13"
  },
  "orig_nbformat": 4
 },
 "nbformat": 4,
 "nbformat_minor": 2
}
